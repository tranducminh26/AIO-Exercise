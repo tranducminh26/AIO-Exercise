{
  "nbformat": 4,
  "nbformat_minor": 0,
  "metadata": {
    "colab": {
      "provenance": [],
      "authorship_tag": "ABX9TyNEXSTlh4qreCbf9uuXneAg",
      "include_colab_link": true
    },
    "kernelspec": {
      "name": "python3",
      "display_name": "Python 3"
    },
    "language_info": {
      "name": "python"
    }
  },
  "cells": [
    {
      "cell_type": "markdown",
      "metadata": {
        "id": "view-in-github",
        "colab_type": "text"
      },
      "source": [
        "<a href=\"https://colab.research.google.com/github/tranducminh26/AIO-Exercise/blob/main/color_to_gray.ipynb\" target=\"_parent\"><img src=\"https://colab.research.google.com/assets/colab-badge.svg\" alt=\"Open In Colab\"/></a>"
      ]
    },
    {
      "cell_type": "code",
      "execution_count": 1,
      "metadata": {
        "colab": {
          "base_uri": "https://localhost:8080/"
        },
        "id": "QtGxODdAIkee",
        "outputId": "e978cd14-d4b0-4e53-fea5-426a89ac2dbe"
      },
      "outputs": [
        {
          "output_type": "stream",
          "name": "stdout",
          "text": [
            "Downloading...\n",
            "From: https://drive.google.com/uc?id=1i9dqan21DjQoG5Q_VEvm0LrVwAlXD0vB\n",
            "To: /content/dog.jpeg\n",
            "\r  0% 0.00/33.7k [00:00<?, ?B/s]\r100% 33.7k/33.7k [00:00<00:00, 22.0MB/s]\n"
          ]
        }
      ],
      "source": [
        "!gdown 1i9dqan21DjQoG5Q_VEvm0LrVwAlXD0vB"
      ]
    },
    {
      "cell_type": "code",
      "source": [
        "import numpy as np\n",
        "import matplotlib.image as mpimg"
      ],
      "metadata": {
        "id": "qXpcGY57I435"
      },
      "execution_count": 2,
      "outputs": []
    },
    {
      "cell_type": "code",
      "source": [
        "img = mpimg.imread('/content/dog.jpeg')"
      ],
      "metadata": {
        "id": "Smhjii28JBP-"
      },
      "execution_count": 3,
      "outputs": []
    },
    {
      "cell_type": "code",
      "source": [
        "def color2gray_lightness(vector):\n",
        "    result = (np.max(vector) + np.min(vector)) / 2\n",
        "    return result\n",
        "\n",
        "gray_img_01 = np.apply_along_axis(color2gray_lightness, axis=2, arr=img)\n",
        "print(gray_img_01[0, 0])"
      ],
      "metadata": {
        "colab": {
          "base_uri": "https://localhost:8080/"
        },
        "id": "IMedOcZtIogk",
        "outputId": "00b7d501-fe8e-4f3b-d774-3a0e2680a47c"
      },
      "execution_count": 4,
      "outputs": [
        {
          "output_type": "stream",
          "name": "stderr",
          "text": [
            "<ipython-input-4-bb995dd56f2c>:2: RuntimeWarning: overflow encountered in scalar add\n",
            "  result = (np.max(vector) + np.min(vector)) / 2\n"
          ]
        },
        {
          "output_type": "stream",
          "name": "stdout",
          "text": [
            "102.5\n"
          ]
        }
      ]
    },
    {
      "cell_type": "code",
      "source": [
        "def color2gray_average(vector):\n",
        "    return vector.mean()\n",
        "\n",
        "gray_img_02 = np.apply_along_axis(color2gray_average, axis=2, arr=img)\n",
        "print(gray_img_02[0, 0])"
      ],
      "metadata": {
        "colab": {
          "base_uri": "https://localhost:8080/"
        },
        "id": "ZRSObzJAIois",
        "outputId": "cf596167-cf69-408b-bb29-c83e7c7cb63d"
      },
      "execution_count": 5,
      "outputs": [
        {
          "output_type": "stream",
          "name": "stdout",
          "text": [
            "107.66666666666667\n"
          ]
        }
      ]
    },
    {
      "cell_type": "code",
      "source": [
        "def color2gray_luminosity(vector):\n",
        "    result = 0.21 * vector[0] + 0.72 * vector[1] + 0.07 * vector[2]\n",
        "    return result\n",
        "\n",
        "gray_img_03 = np.apply_along_axis(color2gray_luminosity, axis=2, arr=img)\n",
        "print(gray_img_03[0, 0])"
      ],
      "metadata": {
        "colab": {
          "base_uri": "https://localhost:8080/"
        },
        "id": "XQKF_m0DIokD",
        "outputId": "c352b4d9-efea-471d-ca86-292cb8dfa920"
      },
      "execution_count": 6,
      "outputs": [
        {
          "output_type": "stream",
          "name": "stdout",
          "text": [
            "126.22999999999999\n"
          ]
        }
      ]
    }
  ]
}