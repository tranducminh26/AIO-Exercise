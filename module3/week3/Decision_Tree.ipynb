{
 "cells": [
  {
   "cell_type": "markdown",
   "id": "65baea8c",
   "metadata": {},
   "source": [
    "# Decision Tree for Classification"
   ]
  },
  {
   "cell_type": "code",
   "execution_count": 1,
   "id": "2cd7bb52",
   "metadata": {},
   "outputs": [],
   "source": [
    "from sklearn import datasets\n",
    "from sklearn.model_selection import train_test_split\n",
    "from sklearn.metrics import accuracy_score\n",
    "from sklearn.tree import DecisionTreeClassifier"
   ]
  },
  {
   "cell_type": "code",
   "execution_count": 2,
   "id": "8d39dce5",
   "metadata": {},
   "outputs": [],
   "source": [
    "iris_X, iris_y = datasets.load_iris(return_X_y=True)"
   ]
  },
  {
   "cell_type": "code",
   "execution_count": 3,
   "id": "97e5901e",
   "metadata": {},
   "outputs": [
    {
     "data": {
      "text/plain": [
       "(150, 4)"
      ]
     },
     "execution_count": 3,
     "metadata": {},
     "output_type": "execute_result"
    }
   ],
   "source": [
    "iris_X.shape"
   ]
  },
  {
   "cell_type": "code",
   "execution_count": 4,
   "id": "321fdfec",
   "metadata": {},
   "outputs": [
    {
     "data": {
      "text/plain": [
       "(150,)"
      ]
     },
     "execution_count": 4,
     "metadata": {},
     "output_type": "execute_result"
    }
   ],
   "source": [
    "iris_y.shape"
   ]
  },
  {
   "cell_type": "code",
   "execution_count": 5,
   "id": "ef54b799",
   "metadata": {},
   "outputs": [],
   "source": [
    "X_train, X_test, y_train, y_test = train_test_split(\n",
    "    iris_X, iris_y,\n",
    "    test_size=0.2,\n",
    "    random_state=42)"
   ]
  },
  {
   "cell_type": "code",
   "execution_count": 6,
   "id": "48bcea7e",
   "metadata": {},
   "outputs": [
    {
     "data": {
      "text/plain": [
       "(120, 4)"
      ]
     },
     "execution_count": 6,
     "metadata": {},
     "output_type": "execute_result"
    }
   ],
   "source": [
    "X_train.shape"
   ]
  },
  {
   "cell_type": "code",
   "execution_count": 7,
   "id": "d396381a",
   "metadata": {},
   "outputs": [],
   "source": [
    "clf = DecisionTreeClassifier()"
   ]
  },
  {
   "cell_type": "code",
   "execution_count": 8,
   "id": "db2bd409",
   "metadata": {},
   "outputs": [
    {
     "data": {
      "text/html": [
       "<style>#sk-container-id-1 {color: black;background-color: white;}#sk-container-id-1 pre{padding: 0;}#sk-container-id-1 div.sk-toggleable {background-color: white;}#sk-container-id-1 label.sk-toggleable__label {cursor: pointer;display: block;width: 100%;margin-bottom: 0;padding: 0.3em;box-sizing: border-box;text-align: center;}#sk-container-id-1 label.sk-toggleable__label-arrow:before {content: \"▸\";float: left;margin-right: 0.25em;color: #696969;}#sk-container-id-1 label.sk-toggleable__label-arrow:hover:before {color: black;}#sk-container-id-1 div.sk-estimator:hover label.sk-toggleable__label-arrow:before {color: black;}#sk-container-id-1 div.sk-toggleable__content {max-height: 0;max-width: 0;overflow: hidden;text-align: left;background-color: #f0f8ff;}#sk-container-id-1 div.sk-toggleable__content pre {margin: 0.2em;color: black;border-radius: 0.25em;background-color: #f0f8ff;}#sk-container-id-1 input.sk-toggleable__control:checked~div.sk-toggleable__content {max-height: 200px;max-width: 100%;overflow: auto;}#sk-container-id-1 input.sk-toggleable__control:checked~label.sk-toggleable__label-arrow:before {content: \"▾\";}#sk-container-id-1 div.sk-estimator input.sk-toggleable__control:checked~label.sk-toggleable__label {background-color: #d4ebff;}#sk-container-id-1 div.sk-label input.sk-toggleable__control:checked~label.sk-toggleable__label {background-color: #d4ebff;}#sk-container-id-1 input.sk-hidden--visually {border: 0;clip: rect(1px 1px 1px 1px);clip: rect(1px, 1px, 1px, 1px);height: 1px;margin: -1px;overflow: hidden;padding: 0;position: absolute;width: 1px;}#sk-container-id-1 div.sk-estimator {font-family: monospace;background-color: #f0f8ff;border: 1px dotted black;border-radius: 0.25em;box-sizing: border-box;margin-bottom: 0.5em;}#sk-container-id-1 div.sk-estimator:hover {background-color: #d4ebff;}#sk-container-id-1 div.sk-parallel-item::after {content: \"\";width: 100%;border-bottom: 1px solid gray;flex-grow: 1;}#sk-container-id-1 div.sk-label:hover label.sk-toggleable__label {background-color: #d4ebff;}#sk-container-id-1 div.sk-serial::before {content: \"\";position: absolute;border-left: 1px solid gray;box-sizing: border-box;top: 0;bottom: 0;left: 50%;z-index: 0;}#sk-container-id-1 div.sk-serial {display: flex;flex-direction: column;align-items: center;background-color: white;padding-right: 0.2em;padding-left: 0.2em;position: relative;}#sk-container-id-1 div.sk-item {position: relative;z-index: 1;}#sk-container-id-1 div.sk-parallel {display: flex;align-items: stretch;justify-content: center;background-color: white;position: relative;}#sk-container-id-1 div.sk-item::before, #sk-container-id-1 div.sk-parallel-item::before {content: \"\";position: absolute;border-left: 1px solid gray;box-sizing: border-box;top: 0;bottom: 0;left: 50%;z-index: -1;}#sk-container-id-1 div.sk-parallel-item {display: flex;flex-direction: column;z-index: 1;position: relative;background-color: white;}#sk-container-id-1 div.sk-parallel-item:first-child::after {align-self: flex-end;width: 50%;}#sk-container-id-1 div.sk-parallel-item:last-child::after {align-self: flex-start;width: 50%;}#sk-container-id-1 div.sk-parallel-item:only-child::after {width: 0;}#sk-container-id-1 div.sk-dashed-wrapped {border: 1px dashed gray;margin: 0 0.4em 0.5em 0.4em;box-sizing: border-box;padding-bottom: 0.4em;background-color: white;}#sk-container-id-1 div.sk-label label {font-family: monospace;font-weight: bold;display: inline-block;line-height: 1.2em;}#sk-container-id-1 div.sk-label-container {text-align: center;}#sk-container-id-1 div.sk-container {/* jupyter's `normalize.less` sets `[hidden] { display: none; }` but bootstrap.min.css set `[hidden] { display: none !important; }` so we also need the `!important` here to be able to override the default hidden behavior on the sphinx rendered scikit-learn.org. See: https://github.com/scikit-learn/scikit-learn/issues/21755 */display: inline-block !important;position: relative;}#sk-container-id-1 div.sk-text-repr-fallback {display: none;}</style><div id=\"sk-container-id-1\" class=\"sk-top-container\"><div class=\"sk-text-repr-fallback\"><pre>DecisionTreeClassifier()</pre><b>In a Jupyter environment, please rerun this cell to show the HTML representation or trust the notebook. <br />On GitHub, the HTML representation is unable to render, please try loading this page with nbviewer.org.</b></div><div class=\"sk-container\" hidden><div class=\"sk-item\"><div class=\"sk-estimator sk-toggleable\"><input class=\"sk-toggleable__control sk-hidden--visually\" id=\"sk-estimator-id-1\" type=\"checkbox\" checked><label for=\"sk-estimator-id-1\" class=\"sk-toggleable__label sk-toggleable__label-arrow\">DecisionTreeClassifier</label><div class=\"sk-toggleable__content\"><pre>DecisionTreeClassifier()</pre></div></div></div></div></div>"
      ],
      "text/plain": [
       "DecisionTreeClassifier()"
      ]
     },
     "execution_count": 8,
     "metadata": {},
     "output_type": "execute_result"
    }
   ],
   "source": [
    "clf.fit(X_train, y_train)"
   ]
  },
  {
   "cell_type": "code",
   "execution_count": 9,
   "id": "31d6cff2",
   "metadata": {},
   "outputs": [],
   "source": [
    "y_pred = clf.predict(X_test)"
   ]
  },
  {
   "cell_type": "code",
   "execution_count": 10,
   "id": "94229e98",
   "metadata": {},
   "outputs": [
    {
     "data": {
      "text/plain": [
       "array([1, 0, 2, 1, 1, 0, 1, 2, 1, 1, 2, 0, 0, 0, 0, 1, 2, 1, 1, 2, 0, 2,\n",
       "       0, 2, 2, 2, 2, 2, 0, 0])"
      ]
     },
     "execution_count": 10,
     "metadata": {},
     "output_type": "execute_result"
    }
   ],
   "source": [
    "y_pred"
   ]
  },
  {
   "cell_type": "code",
   "execution_count": 11,
   "id": "4862bc16",
   "metadata": {},
   "outputs": [
    {
     "data": {
      "text/plain": [
       "1.0"
      ]
     },
     "execution_count": 11,
     "metadata": {},
     "output_type": "execute_result"
    }
   ],
   "source": [
    "accuracy_score(y_pred, y_test)"
   ]
  },
  {
   "cell_type": "code",
   "execution_count": 12,
   "id": "31777122",
   "metadata": {},
   "outputs": [
    {
     "data": {
      "text/plain": [
       "[Text(0.3076923076923077, 0.9285714285714286, 'Petal_Length <= 2.45\\ngini = 0.667\\nsamples = 120\\nvalue = [40, 41, 39]'),\n",
       " Text(0.23076923076923078, 0.7857142857142857, 'gini = 0.0\\nsamples = 40\\nvalue = [40, 0, 0]'),\n",
       " Text(0.38461538461538464, 0.7857142857142857, 'Petal_Length <= 4.75\\ngini = 0.5\\nsamples = 80\\nvalue = [0, 41, 39]'),\n",
       " Text(0.15384615384615385, 0.6428571428571429, 'Petal_Width <= 1.65\\ngini = 0.053\\nsamples = 37\\nvalue = [0, 36, 1]'),\n",
       " Text(0.07692307692307693, 0.5, 'gini = 0.0\\nsamples = 36\\nvalue = [0, 36, 0]'),\n",
       " Text(0.23076923076923078, 0.5, 'gini = 0.0\\nsamples = 1\\nvalue = [0, 0, 1]'),\n",
       " Text(0.6153846153846154, 0.6428571428571429, 'Petal_Width <= 1.75\\ngini = 0.206\\nsamples = 43\\nvalue = [0, 5, 38]'),\n",
       " Text(0.38461538461538464, 0.5, 'Petal_Length <= 4.95\\ngini = 0.5\\nsamples = 8\\nvalue = [0, 4, 4]'),\n",
       " Text(0.3076923076923077, 0.35714285714285715, 'gini = 0.0\\nsamples = 2\\nvalue = [0, 2, 0]'),\n",
       " Text(0.46153846153846156, 0.35714285714285715, 'Petal_Width <= 1.55\\ngini = 0.444\\nsamples = 6\\nvalue = [0, 2, 4]'),\n",
       " Text(0.38461538461538464, 0.21428571428571427, 'gini = 0.0\\nsamples = 3\\nvalue = [0, 0, 3]'),\n",
       " Text(0.5384615384615384, 0.21428571428571427, 'Petal_Length <= 5.45\\ngini = 0.444\\nsamples = 3\\nvalue = [0, 2, 1]'),\n",
       " Text(0.46153846153846156, 0.07142857142857142, 'gini = 0.0\\nsamples = 2\\nvalue = [0, 2, 0]'),\n",
       " Text(0.6153846153846154, 0.07142857142857142, 'gini = 0.0\\nsamples = 1\\nvalue = [0, 0, 1]'),\n",
       " Text(0.8461538461538461, 0.5, 'Petal_Length <= 4.85\\ngini = 0.056\\nsamples = 35\\nvalue = [0, 1, 34]'),\n",
       " Text(0.7692307692307693, 0.35714285714285715, 'Sepal_Length <= 5.95\\ngini = 0.444\\nsamples = 3\\nvalue = [0, 1, 2]'),\n",
       " Text(0.6923076923076923, 0.21428571428571427, 'gini = 0.0\\nsamples = 1\\nvalue = [0, 1, 0]'),\n",
       " Text(0.8461538461538461, 0.21428571428571427, 'gini = 0.0\\nsamples = 2\\nvalue = [0, 0, 2]'),\n",
       " Text(0.9230769230769231, 0.35714285714285715, 'gini = 0.0\\nsamples = 32\\nvalue = [0, 0, 32]')]"
      ]
     },
     "execution_count": 12,
     "metadata": {},
     "output_type": "execute_result"
    },
    {
     "data": {
      "image/png": "[encoded data removed]",
      "text/plain": [
       "<Figure size 640x480 with 1 Axes>"
      ]
     },
     "metadata": {},
     "output_type": "display_data"
    }
   ],
   "source": [
    "from sklearn.tree import plot_tree\n",
    "\n",
    "plot_tree(clf, feature_names=[\"Sepal_Length\", \"Sepal_Width\", \"Petal_Length\", \"Petal_Width\"])"
   ]
  },
  {
   "cell_type": "code",
   "execution_count": null,
   "id": "b21fbc1a",
   "metadata": {},
   "outputs": [],
   "source": []
  },
  {
   "cell_type": "markdown",
   "id": "e7a42ab0",
   "metadata": {},
   "source": [
    "# Decision Tree for Regression"
   ]
  },
  {
   "cell_type": "code",
   "execution_count": 13,
   "id": "b3182879",
   "metadata": {},
   "outputs": [],
   "source": [
    "from sklearn.datasets import fetch_openml\n",
    "from sklearn.model_selection import train_test_split\n",
    "from sklearn.metrics import mean_squared_error\n",
    "from sklearn.tree import DecisionTreeRegressor"
   ]
  },
  {
   "cell_type": "code",
   "execution_count": 14,
   "id": "d4dd45fc",
   "metadata": {},
   "outputs": [
    {
     "name": "stderr",
     "output_type": "stream",
     "text": [
      "C:\\Users\\trand\\anaconda3\\Lib\\site-packages\\sklearn\\datasets\\_openml.py:301: UserWarning: Multiple active versions of the dataset matching the name machine_cpu exist. Versions may be fundamentally different, returning version 1.\n",
      "  warn(\n"
     ]
    }
   ],
   "source": [
    "machine_cpu = fetch_openml(name='machine_cpu', parser='auto')"
   ]
  },
  {
   "cell_type": "code",
   "execution_count": 15,
   "id": "97a851bc",
   "metadata": {},
   "outputs": [
    {
     "data": {
      "text/plain": [
       "{'data':      MYCT  MMIN   MMAX  CACH  CHMIN  CHMAX\n",
       " 0     125   256   6000   256     16    128\n",
       " 1      29  8000  32000    32      8     32\n",
       " 2      29  8000  32000    32      8     32\n",
       " 3      29  8000  32000    32      8     32\n",
       " 4      29  8000  16000    32      8     16\n",
       " ..    ...   ...    ...   ...    ...    ...\n",
       " 204   124  1000   8000     0      1      8\n",
       " 205    98  1000   8000    32      2      8\n",
       " 206   125  2000   8000     0      2     14\n",
       " 207   480   512   8000    32      0      0\n",
       " 208   480  1000   4000     0      0      0\n",
       " \n",
       " [209 rows x 6 columns],\n",
       " 'target': 0      198\n",
       " 1      269\n",
       " 2      220\n",
       " 3      172\n",
       " 4      132\n",
       "       ... \n",
       " 204     42\n",
       " 205     46\n",
       " 206     52\n",
       " 207     67\n",
       " 208     45\n",
       " Name: class, Length: 209, dtype: int64,\n",
       " 'frame':      MYCT  MMIN   MMAX  CACH  CHMIN  CHMAX  class\n",
       " 0     125   256   6000   256     16    128    198\n",
       " 1      29  8000  32000    32      8     32    269\n",
       " 2      29  8000  32000    32      8     32    220\n",
       " 3      29  8000  32000    32      8     32    172\n",
       " 4      29  8000  16000    32      8     16    132\n",
       " ..    ...   ...    ...   ...    ...    ...    ...\n",
       " 204   124  1000   8000     0      1      8     42\n",
       " 205    98  1000   8000    32      2      8     46\n",
       " 206   125  2000   8000     0      2     14     52\n",
       " 207   480   512   8000    32      0      0     67\n",
       " 208   480  1000   4000     0      0      0     45\n",
       " \n",
       " [209 rows x 7 columns],\n",
       " 'categories': None,\n",
       " 'feature_names': ['MYCT', 'MMIN', 'MMAX', 'CACH', 'CHMIN', 'CHMAX'],\n",
       " 'target_names': ['class'],\n",
       " 'DESCR': '**Author**:   \\n**Source**: Unknown -   \\n**Please cite**:   \\n\\nThe problem concerns Relative CPU Performance Data. More information can be obtained in the UCI Machine\\n Learning repository (http://www.ics.uci.edu/~mlearn/MLSummary.html).\\n The used attributes are :\\n MYCT: machine cycle time in nanoseconds (integer)\\n MMIN: minimum main memory in kilobytes (integer)\\n MMAX: maximum main memory in kilobytes (integer)\\n CACH: cache memory in kilobytes (integer)\\n CHMIN: minimum channels in units (integer)\\n CHMAX: maximum channels in units (integer)\\n PRP: published relative performance (integer) (target variable)\\n \\n Original source: UCI machine learning repository. \\n Source: collection of regression datasets by Luis Torgo (ltorgo@ncc.up.pt) at\\n http://www.ncc.up.pt/~ltorgo/Regression/DataSets.html\\n Characteristics: 209 cases; 6 continuous variables\\n\\nDownloaded from openml.org.',\n",
       " 'details': {'id': '230',\n",
       "  'name': 'machine_cpu',\n",
       "  'version': '1',\n",
       "  'description_version': '1',\n",
       "  'format': 'ARFF',\n",
       "  'contributor': 'L. Torgo',\n",
       "  'upload_date': '2014-04-23T13:20:36',\n",
       "  'language': 'English',\n",
       "  'licence': 'Public',\n",
       "  'url': 'https://api.openml.org/data/v1/download/3667/machine_cpu.arff',\n",
       "  'parquet_url': 'https://openml1.win.tue.nl/datasets/0000/0230/dataset_230.pq',\n",
       "  'file_id': '3667',\n",
       "  'default_target_attribute': 'class',\n",
       "  'version_label': '1',\n",
       "  'citation': 'https://archive.ics.uci.edu/ml/citation_policy.html',\n",
       "  'tag': ['Computer Systems', 'Machine Learning', 'OpenML-Reg19'],\n",
       "  'visibility': 'public',\n",
       "  'original_data_url': 'http://www.ics.uci.edu/~mlearn/MLSummary.html',\n",
       "  'minio_url': 'https://openml1.win.tue.nl/datasets/0000/0230/dataset_230.pq',\n",
       "  'status': 'active',\n",
       "  'processing_date': '2020-11-20 19:15:43',\n",
       "  'md5_checksum': 'e26d62e83069b74dff6cf492e06868a0'},\n",
       " 'url': 'https://www.openml.org/d/230'}"
      ]
     },
     "execution_count": 15,
     "metadata": {},
     "output_type": "execute_result"
    }
   ],
   "source": [
    "machine_cpu"
   ]
  },
  {
   "cell_type": "code",
   "execution_count": 16,
   "id": "9b500c71",
   "metadata": {},
   "outputs": [],
   "source": [
    "machine_data = machine_cpu.data\n",
    "machine_label = machine_cpu.target"
   ]
  },
  {
   "cell_type": "code",
   "execution_count": 17,
   "id": "360a3a0c",
   "metadata": {},
   "outputs": [
    {
     "data": {
      "text/html": [
       "<div>\n",
       "<style scoped>\n",
       "    .dataframe tbody tr th:only-of-type {\n",
       "        vertical-align: middle;\n",
       "    }\n",
       "\n",
       "    .dataframe tbody tr th {\n",
       "        vertical-align: top;\n",
       "    }\n",
       "\n",
       "    .dataframe thead th {\n",
       "        text-align: right;\n",
       "    }\n",
       "</style>\n",
       "<table border=\"1\" class=\"dataframe\">\n",
       "  <thead>\n",
       "    <tr style=\"text-align: right;\">\n",
       "      <th></th>\n",
       "      <th>MYCT</th>\n",
       "      <th>MMIN</th>\n",
       "      <th>MMAX</th>\n",
       "      <th>CACH</th>\n",
       "      <th>CHMIN</th>\n",
       "      <th>CHMAX</th>\n",
       "    </tr>\n",
       "  </thead>\n",
       "  <tbody>\n",
       "    <tr>\n",
       "      <th>0</th>\n",
       "      <td>125</td>\n",
       "      <td>256</td>\n",
       "      <td>6000</td>\n",
       "      <td>256</td>\n",
       "      <td>16</td>\n",
       "      <td>128</td>\n",
       "    </tr>\n",
       "    <tr>\n",
       "      <th>1</th>\n",
       "      <td>29</td>\n",
       "      <td>8000</td>\n",
       "      <td>32000</td>\n",
       "      <td>32</td>\n",
       "      <td>8</td>\n",
       "      <td>32</td>\n",
       "    </tr>\n",
       "    <tr>\n",
       "      <th>2</th>\n",
       "      <td>29</td>\n",
       "      <td>8000</td>\n",
       "      <td>32000</td>\n",
       "      <td>32</td>\n",
       "      <td>8</td>\n",
       "      <td>32</td>\n",
       "    </tr>\n",
       "    <tr>\n",
       "      <th>3</th>\n",
       "      <td>29</td>\n",
       "      <td>8000</td>\n",
       "      <td>32000</td>\n",
       "      <td>32</td>\n",
       "      <td>8</td>\n",
       "      <td>32</td>\n",
       "    </tr>\n",
       "    <tr>\n",
       "      <th>4</th>\n",
       "      <td>29</td>\n",
       "      <td>8000</td>\n",
       "      <td>16000</td>\n",
       "      <td>32</td>\n",
       "      <td>8</td>\n",
       "      <td>16</td>\n",
       "    </tr>\n",
       "    <tr>\n",
       "      <th>...</th>\n",
       "      <td>...</td>\n",
       "      <td>...</td>\n",
       "      <td>...</td>\n",
       "      <td>...</td>\n",
       "      <td>...</td>\n",
       "      <td>...</td>\n",
       "    </tr>\n",
       "    <tr>\n",
       "      <th>204</th>\n",
       "      <td>124</td>\n",
       "      <td>1000</td>\n",
       "      <td>8000</td>\n",
       "      <td>0</td>\n",
       "      <td>1</td>\n",
       "      <td>8</td>\n",
       "    </tr>\n",
       "    <tr>\n",
       "      <th>205</th>\n",
       "      <td>98</td>\n",
       "      <td>1000</td>\n",
       "      <td>8000</td>\n",
       "      <td>32</td>\n",
       "      <td>2</td>\n",
       "      <td>8</td>\n",
       "    </tr>\n",
       "    <tr>\n",
       "      <th>206</th>\n",
       "      <td>125</td>\n",
       "      <td>2000</td>\n",
       "      <td>8000</td>\n",
       "      <td>0</td>\n",
       "      <td>2</td>\n",
       "      <td>14</td>\n",
       "    </tr>\n",
       "    <tr>\n",
       "      <th>207</th>\n",
       "      <td>480</td>\n",
       "      <td>512</td>\n",
       "      <td>8000</td>\n",
       "      <td>32</td>\n",
       "      <td>0</td>\n",
       "      <td>0</td>\n",
       "    </tr>\n",
       "    <tr>\n",
       "      <th>208</th>\n",
       "      <td>480</td>\n",
       "      <td>1000</td>\n",
       "      <td>4000</td>\n",
       "      <td>0</td>\n",
       "      <td>0</td>\n",
       "      <td>0</td>\n",
       "    </tr>\n",
       "  </tbody>\n",
       "</table>\n",
       "<p>209 rows × 6 columns</p>\n",
       "</div>"
      ],
      "text/plain": [
       "     MYCT  MMIN   MMAX  CACH  CHMIN  CHMAX\n",
       "0     125   256   6000   256     16    128\n",
       "1      29  8000  32000    32      8     32\n",
       "2      29  8000  32000    32      8     32\n",
       "3      29  8000  32000    32      8     32\n",
       "4      29  8000  16000    32      8     16\n",
       "..    ...   ...    ...   ...    ...    ...\n",
       "204   124  1000   8000     0      1      8\n",
       "205    98  1000   8000    32      2      8\n",
       "206   125  2000   8000     0      2     14\n",
       "207   480   512   8000    32      0      0\n",
       "208   480  1000   4000     0      0      0\n",
       "\n",
       "[209 rows x 6 columns]"
      ]
     },
     "execution_count": 17,
     "metadata": {},
     "output_type": "execute_result"
    }
   ],
   "source": [
    "machine_data"
   ]
  },
  {
   "cell_type": "code",
   "execution_count": 18,
   "id": "b859e0d4",
   "metadata": {},
   "outputs": [
    {
     "data": {
      "text/plain": [
       "0      198\n",
       "1      269\n",
       "2      220\n",
       "3      172\n",
       "4      132\n",
       "      ... \n",
       "204     42\n",
       "205     46\n",
       "206     52\n",
       "207     67\n",
       "208     45\n",
       "Name: class, Length: 209, dtype: int64"
      ]
     },
     "execution_count": 18,
     "metadata": {},
     "output_type": "execute_result"
    }
   ],
   "source": [
    "machine_label"
   ]
  },
  {
   "cell_type": "code",
   "execution_count": 19,
   "id": "fa70eb50",
   "metadata": {},
   "outputs": [],
   "source": [
    "X_train, X_test, y_train, y_test = train_test_split(\n",
    "    machine_data, machine_label,\n",
    "    test_size=0.2,\n",
    "    random_state=42)"
   ]
  },
  {
   "cell_type": "code",
   "execution_count": 20,
   "id": "c477c93c",
   "metadata": {},
   "outputs": [],
   "source": [
    "reg = DecisionTreeRegressor(max_depth=2)"
   ]
  },
  {
   "cell_type": "code",
   "execution_count": 21,
   "id": "d5460e39",
   "metadata": {},
   "outputs": [
    {
     "data": {
      "text/html": [
       "<style>#sk-container-id-2 {color: black;background-color: white;}#sk-container-id-2 pre{padding: 0;}#sk-container-id-2 div.sk-toggleable {background-color: white;}#sk-container-id-2 label.sk-toggleable__label {cursor: pointer;display: block;width: 100%;margin-bottom: 0;padding: 0.3em;box-sizing: border-box;text-align: center;}#sk-container-id-2 label.sk-toggleable__label-arrow:before {content: \"▸\";float: left;margin-right: 0.25em;color: #696969;}#sk-container-id-2 label.sk-toggleable__label-arrow:hover:before {color: black;}#sk-container-id-2 div.sk-estimator:hover label.sk-toggleable__label-arrow:before {color: black;}#sk-container-id-2 div.sk-toggleable__content {max-height: 0;max-width: 0;overflow: hidden;text-align: left;background-color: #f0f8ff;}#sk-container-id-2 div.sk-toggleable__content pre {margin: 0.2em;color: black;border-radius: 0.25em;background-color: #f0f8ff;}#sk-container-id-2 input.sk-toggleable__control:checked~div.sk-toggleable__content {max-height: 200px;max-width: 100%;overflow: auto;}#sk-container-id-2 input.sk-toggleable__control:checked~label.sk-toggleable__label-arrow:before {content: \"▾\";}#sk-container-id-2 div.sk-estimator input.sk-toggleable__control:checked~label.sk-toggleable__label {background-color: #d4ebff;}#sk-container-id-2 div.sk-label input.sk-toggleable__control:checked~label.sk-toggleable__label {background-color: #d4ebff;}#sk-container-id-2 input.sk-hidden--visually {border: 0;clip: rect(1px 1px 1px 1px);clip: rect(1px, 1px, 1px, 1px);height: 1px;margin: -1px;overflow: hidden;padding: 0;position: absolute;width: 1px;}#sk-container-id-2 div.sk-estimator {font-family: monospace;background-color: #f0f8ff;border: 1px dotted black;border-radius: 0.25em;box-sizing: border-box;margin-bottom: 0.5em;}#sk-container-id-2 div.sk-estimator:hover {background-color: #d4ebff;}#sk-container-id-2 div.sk-parallel-item::after {content: \"\";width: 100%;border-bottom: 1px solid gray;flex-grow: 1;}#sk-container-id-2 div.sk-label:hover label.sk-toggleable__label {background-color: #d4ebff;}#sk-container-id-2 div.sk-serial::before {content: \"\";position: absolute;border-left: 1px solid gray;box-sizing: border-box;top: 0;bottom: 0;left: 50%;z-index: 0;}#sk-container-id-2 div.sk-serial {display: flex;flex-direction: column;align-items: center;background-color: white;padding-right: 0.2em;padding-left: 0.2em;position: relative;}#sk-container-id-2 div.sk-item {position: relative;z-index: 1;}#sk-container-id-2 div.sk-parallel {display: flex;align-items: stretch;justify-content: center;background-color: white;position: relative;}#sk-container-id-2 div.sk-item::before, #sk-container-id-2 div.sk-parallel-item::before {content: \"\";position: absolute;border-left: 1px solid gray;box-sizing: border-box;top: 0;bottom: 0;left: 50%;z-index: -1;}#sk-container-id-2 div.sk-parallel-item {display: flex;flex-direction: column;z-index: 1;position: relative;background-color: white;}#sk-container-id-2 div.sk-parallel-item:first-child::after {align-self: flex-end;width: 50%;}#sk-container-id-2 div.sk-parallel-item:last-child::after {align-self: flex-start;width: 50%;}#sk-container-id-2 div.sk-parallel-item:only-child::after {width: 0;}#sk-container-id-2 div.sk-dashed-wrapped {border: 1px dashed gray;margin: 0 0.4em 0.5em 0.4em;box-sizing: border-box;padding-bottom: 0.4em;background-color: white;}#sk-container-id-2 div.sk-label label {font-family: monospace;font-weight: bold;display: inline-block;line-height: 1.2em;}#sk-container-id-2 div.sk-label-container {text-align: center;}#sk-container-id-2 div.sk-container {/* jupyter's `normalize.less` sets `[hidden] { display: none; }` but bootstrap.min.css set `[hidden] { display: none !important; }` so we also need the `!important` here to be able to override the default hidden behavior on the sphinx rendered scikit-learn.org. See: https://github.com/scikit-learn/scikit-learn/issues/21755 */display: inline-block !important;position: relative;}#sk-container-id-2 div.sk-text-repr-fallback {display: none;}</style><div id=\"sk-container-id-2\" class=\"sk-top-container\"><div class=\"sk-text-repr-fallback\"><pre>DecisionTreeRegressor(max_depth=2)</pre><b>In a Jupyter environment, please rerun this cell to show the HTML representation or trust the notebook. <br />On GitHub, the HTML representation is unable to render, please try loading this page with nbviewer.org.</b></div><div class=\"sk-container\" hidden><div class=\"sk-item\"><div class=\"sk-estimator sk-toggleable\"><input class=\"sk-toggleable__control sk-hidden--visually\" id=\"sk-estimator-id-2\" type=\"checkbox\" checked><label for=\"sk-estimator-id-2\" class=\"sk-toggleable__label sk-toggleable__label-arrow\">DecisionTreeRegressor</label><div class=\"sk-toggleable__content\"><pre>DecisionTreeRegressor(max_depth=2)</pre></div></div></div></div></div>"
      ],
      "text/plain": [
       "DecisionTreeRegressor(max_depth=2)"
      ]
     },
     "execution_count": 21,
     "metadata": {},
     "output_type": "execute_result"
    }
   ],
   "source": [
    "reg.fit(X_train, y_train)"
   ]
  },
  {
   "cell_type": "code",
   "execution_count": 22,
   "id": "1846d779",
   "metadata": {},
   "outputs": [],
   "source": [
    "y_pred = reg.predict(X_test)"
   ]
  },
  {
   "cell_type": "code",
   "execution_count": 23,
   "id": "21608a18",
   "metadata": {},
   "outputs": [
    {
     "data": {
      "text/plain": [
       "array([ 137.91176471,   39.90265487,   39.90265487, 1150.        ,\n",
       "         39.90265487,  329.47368421,   39.90265487,   39.90265487,\n",
       "        329.47368421,  329.47368421,   39.90265487,  137.91176471,\n",
       "         39.90265487,   39.90265487,   39.90265487,   39.90265487,\n",
       "        137.91176471,   39.90265487,  137.91176471,   39.90265487,\n",
       "         39.90265487,   39.90265487,  137.91176471,   39.90265487,\n",
       "         39.90265487,   39.90265487,   39.90265487,   39.90265487,\n",
       "         39.90265487,  137.91176471,  329.47368421,   39.90265487,\n",
       "         39.90265487,   39.90265487,   39.90265487,   39.90265487,\n",
       "        137.91176471,  329.47368421,   39.90265487,   39.90265487,\n",
       "        329.47368421,   39.90265487])"
      ]
     },
     "execution_count": 23,
     "metadata": {},
     "output_type": "execute_result"
    }
   ],
   "source": [
    "y_pred"
   ]
  },
  {
   "cell_type": "code",
   "execution_count": 24,
   "id": "d2998834",
   "metadata": {},
   "outputs": [
    {
     "data": {
      "text/plain": [
       "19505.454794960744"
      ]
     },
     "execution_count": 24,
     "metadata": {},
     "output_type": "execute_result"
    }
   ],
   "source": [
    "mean_squared_error(y_pred, y_test)"
   ]
  },
  {
   "cell_type": "code",
   "execution_count": 25,
   "id": "3fc6a0b3",
   "metadata": {},
   "outputs": [
    {
     "data": {
      "text/plain": [
       "[Text(0.5, 0.8333333333333334, 'MMAX <= 28000.0\\nsquared_error = 19224.451\\nsamples = 167\\nvalue = 99.449'),\n",
       " Text(0.25, 0.5, 'CACH <= 27.0\\nsquared_error = 3396.98\\nsamples = 147\\nvalue = 62.571'),\n",
       " Text(0.125, 0.16666666666666666, 'squared_error = 710.672\\nsamples = 113\\nvalue = 39.903'),\n",
       " Text(0.375, 0.16666666666666666, 'squared_error = 4940.963\\nsamples = 34\\nvalue = 137.912'),\n",
       " Text(0.75, 0.5, 'CHMAX <= 140.0\\nsquared_error = 52092.05\\nsamples = 20\\nvalue = 370.5'),\n",
       " Text(0.625, 0.16666666666666666, 'squared_error = 21170.565\\nsamples = 19\\nvalue = 329.474'),\n",
       " Text(0.875, 0.16666666666666666, 'squared_error = 0.0\\nsamples = 1\\nvalue = 1150.0')]"
      ]
     },
     "execution_count": 25,
     "metadata": {},
     "output_type": "execute_result"
    },
    {
     "data": {
      "image/png": "[encoded data removed]",
      "text/plain": [
       "<Figure size 640x480 with 1 Axes>"
      ]
     },
     "metadata": {},
     "output_type": "display_data"
    }
   ],
   "source": [
    "from sklearn.tree import plot_tree\n",
    "\n",
    "plot_tree(reg, feature_names=['MYCT', 'MMIN', 'MMAX', 'CACH', 'CHMIN', 'CHMAX'])"
   ]
  }
 ],
 "metadata": {
  "kernelspec": {
   "display_name": "Python 3 (ipykernel)",
   "language": "python",
   "name": "python3"
  },
  "language_info": {
   "codemirror_mode": {
    "name": "ipython",
    "version": 3
   },
   "file_extension": ".py",
   "mimetype": "text/x-python",
   "name": "python",
   "nbconvert_exporter": "python",
   "pygments_lexer": "ipython3",
   "version": "3.11.7"
  }
 },
 "nbformat": 4,
 "nbformat_minor": 5
}
