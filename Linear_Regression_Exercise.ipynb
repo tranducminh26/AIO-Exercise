{
  "nbformat": 4,
  "nbformat_minor": 0,
  "metadata": {
    "colab": {
      "provenance": []
    },
    "kernelspec": {
      "name": "python3",
      "display_name": "Python 3"
    },
    "language_info": {
      "name": "python"
    }
  },
  "cells": [
    {
      "cell_type": "code",
      "execution_count": null,
      "metadata": {
        "id": "jg7tLjnBTitG"
      },
      "outputs": [],
      "source": [
        "import numpy as np\n",
        "import pandas as pd\n",
        "import matplotlib.pyplot as plt\n",
        "import random"
      ]
    },
    {
      "cell_type": "code",
      "source": [
        "file_name_dataset = 'advertising (2).csv'\n",
        "\n",
        "data = np.genfromtxt(file_name_dataset, delimiter =',', skip_header =1).tolist()"
      ],
      "metadata": {
        "id": "pdYXZWiSTlW0"
      },
      "execution_count": null,
      "outputs": []
    },
    {
      "cell_type": "code",
      "source": [
        "print(data)"
      ],
      "metadata": {
        "colab": {
          "base_uri": "https://localhost:8080/"
        },
        "id": "Qxvim7C8TlYe",
        "outputId": "33cefe69-1885-4d3b-abdb-7574c0961d96"
      },
      "execution_count": null,
      "outputs": [
        {
          "output_type": "stream",
          "name": "stdout",
          "text": [
            "[[230.1, 37.8, 69.2, 22.1], [44.5, 39.3, 45.1, 10.4], [17.2, 45.9, 69.3, 12.0], [151.5, 41.3, 58.5, 16.5], [180.8, 10.8, 58.4, 17.9], [8.7, 48.9, 75.0, 7.2], [57.5, 32.8, 23.5, 11.8], [120.2, 19.6, 11.6, 13.2], [8.6, 2.1, 1.0, 4.8], [199.8, 2.6, 21.2, 15.6], [66.1, 5.8, 24.2, 12.6], [214.7, 24.0, 4.0, 17.4], [23.8, 35.1, 65.9, 9.2], [97.5, 7.6, 7.2, 13.7], [204.1, 32.9, 46.0, 19.0], [195.4, 47.7, 52.9, 22.4], [67.8, 36.6, 114.0, 12.5], [281.4, 39.6, 55.8, 24.4], [69.2, 20.5, 18.3, 11.3], [147.3, 23.9, 19.1, 14.6], [218.4, 27.7, 53.4, 18.0], [237.4, 5.1, 23.5, 17.5], [13.2, 15.9, 49.6, 5.6], [228.3, 16.9, 26.2, 20.5], [62.3, 12.6, 18.3, 9.7], [262.9, 3.5, 19.5, 17.0], [142.9, 29.3, 12.6, 15.0], [240.1, 16.7, 22.9, 20.9], [248.8, 27.1, 22.9, 18.9], [70.6, 16.0, 40.8, 10.5], [292.9, 28.3, 43.2, 21.4], [112.9, 17.4, 38.6, 11.9], [97.2, 1.5, 30.0, 13.2], [265.6, 20.0, 0.3, 17.4], [95.7, 1.4, 7.4, 11.9], [290.7, 4.1, 8.5, 17.8], [266.9, 43.8, 5.0, 25.4], [74.7, 49.4, 45.7, 14.7], [43.1, 26.7, 35.1, 10.1], [228.0, 37.7, 32.0, 21.5], [202.5, 22.3, 31.6, 16.6], [177.0, 33.4, 38.7, 17.1], [293.6, 27.7, 1.8, 20.7], [206.9, 8.4, 26.4, 17.9], [25.1, 25.7, 43.3, 8.5], [175.1, 22.5, 31.5, 16.1], [89.7, 9.9, 35.7, 10.6], [239.9, 41.5, 18.5, 23.2], [227.2, 15.8, 49.9, 19.8], [66.9, 11.7, 36.8, 9.7], [199.8, 3.1, 34.6, 16.4], [100.4, 9.6, 3.6, 10.7], [216.4, 41.7, 39.6, 22.6], [182.6, 46.2, 58.7, 21.2], [262.7, 28.8, 15.9, 20.2], [198.9, 49.4, 60.0, 23.7], [7.3, 28.1, 41.4, 5.5], [136.2, 19.2, 16.6, 13.2], [210.8, 49.6, 37.7, 23.8], [210.7, 29.5, 9.3, 18.4], [53.5, 2.0, 21.4, 8.1], [261.3, 42.7, 54.7, 24.2], [239.3, 15.5, 27.3, 20.7], [102.7, 29.6, 8.4, 14.0], [131.1, 42.8, 28.9, 16.0], [69.0, 9.3, 0.9, 11.3], [31.5, 24.6, 2.2, 11.0], [139.3, 14.5, 10.2, 13.4], [237.4, 27.5, 11.0, 18.9], [216.8, 43.9, 27.2, 22.3], [199.1, 30.6, 38.7, 18.3], [109.8, 14.3, 31.7, 12.4], [26.8, 33.0, 19.3, 8.8], [129.4, 5.7, 31.3, 11.0], [213.4, 24.6, 13.1, 17.0], [16.9, 43.7, 89.4, 8.7], [27.5, 1.6, 20.7, 6.9], [120.5, 28.5, 14.2, 14.2], [5.4, 29.9, 9.4, 5.3], [116.0, 7.7, 23.1, 11.0], [76.4, 26.7, 22.3, 11.8], [239.8, 4.1, 36.9, 17.3], [75.3, 20.3, 32.5, 11.3], [68.4, 44.5, 35.6, 13.6], [213.5, 43.0, 33.8, 21.7], [193.2, 18.4, 65.7, 20.2], [76.3, 27.5, 16.0, 12.0], [110.7, 40.6, 63.2, 16.0], [88.3, 25.5, 73.4, 12.9], [109.8, 47.8, 51.4, 16.7], [134.3, 4.9, 9.3, 14.0], [28.6, 1.5, 33.0, 7.3], [217.7, 33.5, 59.0, 19.4], [250.9, 36.5, 72.3, 22.2], [107.4, 14.0, 10.9, 11.5], [163.3, 31.6, 52.9, 16.9], [197.6, 3.5, 5.9, 16.7], [184.9, 21.0, 22.0, 20.5], [289.7, 42.3, 51.2, 25.4], [135.2, 41.7, 45.9, 17.2], [222.4, 4.3, 49.8, 16.7], [296.4, 36.3, 100.9, 23.8], [280.2, 10.1, 21.4, 19.8], [187.9, 17.2, 17.9, 19.7], [238.2, 34.3, 5.3, 20.7], [137.9, 46.4, 59.0, 15.0], [25.0, 11.0, 29.7, 7.2], [90.4, 0.3, 23.2, 12.0], [13.1, 0.4, 25.6, 5.3], [255.4, 26.9, 5.5, 19.8], [225.8, 8.2, 56.5, 18.4], [241.7, 38.0, 23.2, 21.8], [175.7, 15.4, 2.4, 17.1], [209.6, 20.6, 10.7, 20.9], [78.2, 46.8, 34.5, 14.6], [75.1, 35.0, 52.7, 12.6], [139.2, 14.3, 25.6, 12.2], [76.4, 0.8, 14.8, 9.4], [125.7, 36.9, 79.2, 15.9], [19.4, 16.0, 22.3, 6.6], [141.3, 26.8, 46.2, 15.5], [18.8, 21.7, 50.4, 7.0], [224.0, 2.4, 15.6, 16.6], [123.1, 34.6, 12.4, 15.2], [229.5, 32.3, 74.2, 19.7], [87.2, 11.8, 25.9, 10.6], [7.8, 38.9, 50.6, 6.6], [80.2, 0.0, 9.2, 11.9], [220.3, 49.0, 3.2, 24.7], [59.6, 12.0, 43.1, 9.7], [0.7, 39.6, 8.7, 1.6], [265.2, 2.9, 43.0, 17.7], [8.4, 27.2, 2.1, 5.7], [219.8, 33.5, 45.1, 19.6], [36.9, 38.6, 65.6, 10.8], [48.3, 47.0, 8.5, 11.6], [25.6, 39.0, 9.3, 9.5], [273.7, 28.9, 59.7, 20.8], [43.0, 25.9, 20.5, 9.6], [184.9, 43.9, 1.7, 20.7], [73.4, 17.0, 12.9, 10.9], [193.7, 35.4, 75.6, 19.2], [220.5, 33.2, 37.9, 20.1], [104.6, 5.7, 34.4, 10.4], [96.2, 14.8, 38.9, 12.3], [140.3, 1.9, 9.0, 10.3], [240.1, 7.3, 8.7, 18.2], [243.2, 49.0, 44.3, 25.4], [38.0, 40.3, 11.9, 10.9], [44.7, 25.8, 20.6, 10.1], [280.7, 13.9, 37.0, 16.1], [121.0, 8.4, 48.7, 11.6], [197.6, 23.3, 14.2, 16.6], [171.3, 39.7, 37.7, 16.0], [187.8, 21.1, 9.5, 20.6], [4.1, 11.6, 5.7, 3.2], [93.9, 43.5, 50.5, 15.3], [149.8, 1.3, 24.3, 10.1], [11.7, 36.9, 45.2, 7.3], [131.7, 18.4, 34.6, 12.9], [172.5, 18.1, 30.7, 16.4], [85.7, 35.8, 49.3, 13.3], [188.4, 18.1, 25.6, 19.9], [163.5, 36.8, 7.4, 18.0], [117.2, 14.7, 5.4, 11.9], [234.5, 3.4, 84.8, 16.9], [17.9, 37.6, 21.6, 8.0], [206.8, 5.2, 19.4, 17.2], [215.4, 23.6, 57.6, 17.1], [284.3, 10.6, 6.4, 20.0], [50.0, 11.6, 18.4, 8.4], [164.5, 20.9, 47.4, 17.5], [19.6, 20.1, 17.0, 7.6], [168.4, 7.1, 12.8, 16.7], [222.4, 3.4, 13.1, 16.5], [276.9, 48.9, 41.8, 27.0], [248.4, 30.2, 20.3, 20.2], [170.2, 7.8, 35.2, 16.7], [276.7, 2.3, 23.7, 16.8], [165.6, 10.0, 17.6, 17.6], [156.6, 2.6, 8.3, 15.5], [218.5, 5.4, 27.4, 17.2], [56.2, 5.7, 29.7, 8.7], [287.6, 43.0, 71.8, 26.2], [253.8, 21.3, 30.0, 17.6], [205.0, 45.1, 19.6, 22.6], [139.5, 2.1, 26.6, 10.3], [191.1, 28.7, 18.2, 17.3], [286.0, 13.9, 3.7, 20.9], [18.7, 12.1, 23.4, 6.7], [39.5, 41.1, 5.8, 10.8], [75.5, 10.8, 6.0, 11.9], [17.2, 4.1, 31.6, 5.9], [166.8, 42.0, 3.6, 19.6], [149.7, 35.6, 6.0, 17.3], [38.2, 3.7, 13.8, 7.6], [94.2, 4.9, 8.1, 14.0], [177.0, 9.3, 6.4, 14.8], [283.6, 42.0, 66.2, 25.5], [232.1, 8.6, 8.7, 18.4]]\n"
          ]
        }
      ]
    },
    {
      "cell_type": "code",
      "source": [
        "def get_column(data, index):\n",
        "    return [row[index] for row in data]\n",
        "\n",
        "def prepare_data(file_name_dataset):\n",
        "    data = np.genfromtxt(file_name_dataset, delimiter =',', skip_header =1).tolist()\n",
        "    N = len(data)\n",
        "\n",
        "    tv_data = get_column(data, 0)\n",
        "    radio_data = get_column(data, 1)\n",
        "    newspaper_data = get_column(data, 2)\n",
        "    sales_data = get_column(data, 3)\n",
        "\n",
        "    X = [tv_data, radio_data, newspaper_data]\n",
        "    y = sales_data\n",
        "\n",
        "    return X, y"
      ],
      "metadata": {
        "id": "EkR6_3LOTlcC"
      },
      "execution_count": null,
      "outputs": []
    },
    {
      "cell_type": "code",
      "source": [
        "# Exercise 1\n",
        "X, y = prepare_data('advertising (2).csv')\n",
        "lst = [sum(X[0][:5]), sum(X[1][:5]), sum(X[2][:5]), sum (y[:5])]\n",
        "print(lst)"
      ],
      "metadata": {
        "colab": {
          "base_uri": "https://localhost:8080/"
        },
        "id": "74elmr8cTld3",
        "outputId": "67d5fc45-03bf-4b06-db20-24af9ce32ea1"
      },
      "execution_count": null,
      "outputs": [
        {
          "output_type": "stream",
          "name": "stdout",
          "text": [
            "[624.1, 175.10000000000002, 300.5, 78.9]\n"
          ]
        }
      ]
    },
    {
      "cell_type": "code",
      "source": [],
      "metadata": {
        "id": "ncjg1JCsTlfy"
      },
      "execution_count": null,
      "outputs": []
    },
    {
      "cell_type": "code",
      "source": [
        "def initialize_params():\n",
        "    w1, w2, w3, b = (0.016992259082509283, 0.0070783670518262355, -0.002307860847821344, 0)\n",
        "    return w1, w2, w3, b\n",
        "\n",
        "def predict(x1, x2, x3, w1, w2, w3, b):\n",
        "    result = w1 * x1 + w2 * x2 + w3 * x3 + b\n",
        "    return result\n",
        "\n",
        "def compute_loss(y_hat, y):\n",
        "    return (y_hat - y) ** 2\n",
        "\n",
        "def compute_gradient_wi(xi, y_hat, y):\n",
        "    return 2 * xi * (y_hat - y)\n",
        "\n",
        "def compute_gradient_b(y_hat, y):\n",
        "    return 2 * (y_hat - y)\n",
        "\n",
        "def update_weight_wi(wi, dl_dwi, lr):\n",
        "    wi = wi - lr * dl_dwi\n",
        "    return wi\n",
        "\n",
        "def update_weight_b(b, dl_db, lr):\n",
        "    b = b - lr * dl_db\n",
        "    return b"
      ],
      "metadata": {
        "id": "x3sZaG1wTlhP"
      },
      "execution_count": null,
      "outputs": []
    },
    {
      "cell_type": "code",
      "source": [
        "y = predict(x1=1, x2=1, x3=1, w1=0, w2=0.5, w3=0, b=0.5)\n",
        "print(y)"
      ],
      "metadata": {
        "colab": {
          "base_uri": "https://localhost:8080/"
        },
        "id": "Fj5LkVDlTljT",
        "outputId": "d71876c1-4075-497b-e5b6-657112ad5cfd"
      },
      "execution_count": null,
      "outputs": [
        {
          "output_type": "stream",
          "name": "stdout",
          "text": [
            "1.0\n"
          ]
        }
      ]
    },
    {
      "cell_type": "code",
      "source": [
        "l = compute_loss(y_hat=1, y=0.5)\n",
        "print(l)"
      ],
      "metadata": {
        "colab": {
          "base_uri": "https://localhost:8080/"
        },
        "id": "e58XZoYFTlk9",
        "outputId": "3d1879c9-daa0-4e96-e959-ec367f5c7d36"
      },
      "execution_count": null,
      "outputs": [
        {
          "output_type": "stream",
          "name": "stdout",
          "text": [
            "0.25\n"
          ]
        }
      ]
    },
    {
      "cell_type": "code",
      "source": [
        "g_wi = compute_gradient_wi(xi=1.0, y=1.0, y_hat=0.5)\n",
        "print(g_wi)"
      ],
      "metadata": {
        "colab": {
          "base_uri": "https://localhost:8080/"
        },
        "id": "WbzCI4gpTlmy",
        "outputId": "35cedce3-5383-4aff-881a-e50d4c4c4e0c"
      },
      "execution_count": null,
      "outputs": [
        {
          "output_type": "stream",
          "name": "stdout",
          "text": [
            "-1.0\n"
          ]
        }
      ]
    },
    {
      "cell_type": "code",
      "source": [
        "g_b = compute_gradient_b(y=2.0, y_hat=0.5)\n",
        "print(g_b)"
      ],
      "metadata": {
        "colab": {
          "base_uri": "https://localhost:8080/"
        },
        "id": "RP2UJZ94TlpB",
        "outputId": "3a65c90c-088f-4ea4-e51b-31de60a21b93"
      },
      "execution_count": null,
      "outputs": [
        {
          "output_type": "stream",
          "name": "stdout",
          "text": [
            "-3.0\n"
          ]
        }
      ]
    },
    {
      "cell_type": "code",
      "source": [
        "after_wi = update_weight_wi(wi=1.0, dl_dwi=-0.5, lr=1e-5)\n",
        "print(after_wi)"
      ],
      "metadata": {
        "colab": {
          "base_uri": "https://localhost:8080/"
        },
        "id": "2Sd35Fgzbbiw",
        "outputId": "c0ecd8d2-374f-47ac-f184-1d31b20f2def"
      },
      "execution_count": null,
      "outputs": [
        {
          "output_type": "stream",
          "name": "stdout",
          "text": [
            "1.000005\n"
          ]
        }
      ]
    },
    {
      "cell_type": "code",
      "source": [
        "after_b = update_weight_b(b =0.5, dl_db=-1.0, lr=1e-5)\n",
        "print(after_b)"
      ],
      "metadata": {
        "colab": {
          "base_uri": "https://localhost:8080/"
        },
        "id": "uXYresSrbbk8",
        "outputId": "8c4a7c4f-6ad8-4b93-867f-67e400b11dfb"
      },
      "execution_count": null,
      "outputs": [
        {
          "output_type": "stream",
          "name": "stdout",
          "text": [
            "0.50001\n"
          ]
        }
      ]
    },
    {
      "cell_type": "code",
      "source": [
        "def implement_linear_regression(X_data, y_data, epoch_max=50, lr=1e-5):\n",
        "    losses= []\n",
        "    w1, w2, w3, b = initialize_params()\n",
        "    N = len(y_data)\n",
        "    for epoch in range(epoch_max):\n",
        "        for i in range(N):\n",
        "            # get a sample\n",
        "            x1 = X_data[0][i]\n",
        "            x2 = X_data[1][i]\n",
        "            x3 = X_data[2][i]\n",
        "\n",
        "            y = y_data[i]\n",
        "\n",
        "            # compute output\n",
        "            y_hat = predict(x1, x2, x3, w1, w2, w3, b)\n",
        "\n",
        "            # compute loss\n",
        "            loss = compute_loss(y_hat, y)\n",
        "\n",
        "            # compute gradient\n",
        "            dl_dw1 = compute_gradient_wi(x1, y_hat, y)\n",
        "            dl_dw2 = compute_gradient_wi(x2, y_hat, y)\n",
        "            dl_dw3 = compute_gradient_wi(x3, y_hat, y)\n",
        "            dl_db = compute_gradient_b(y_hat, y)\n",
        "\n",
        "            # update weight\n",
        "            w1 = update_weight_wi(w1, dl_dw1, lr)\n",
        "            w2 = update_weight_wi(w2, dl_dw2, lr)\n",
        "            w3 = update_weight_wi(w3, dl_dw3, lr)\n",
        "            b = update_weight_b(b, dl_db, lr)\n",
        "\n",
        "            # logging\n",
        "            losses.append(loss)\n",
        "    return (w1, w2, w3, b, losses)"
      ],
      "metadata": {
        "id": "oJL1nhsJbbmc"
      },
      "execution_count": null,
      "outputs": []
    },
    {
      "cell_type": "code",
      "source": [
        "(w1, w2, w3, b, losses) = implement_linear_regression(X_data=X, y_data=y)\n",
        "plt.plot(losses[:100])\n",
        "plt.xlabel('Iteration')\n",
        "plt.ylabel('Loss')\n",
        "plt.show()"
      ],
      "metadata": {
        "colab": {
          "base_uri": "https://localhost:8080/",
          "height": 449
        },
        "id": "laJ35mOabbod",
        "outputId": "72f3972f-0836-4964-9b4e-5a3afca73866"
      },
      "execution_count": null,
      "outputs": [
        {
          "output_type": "display_data",
          "data": {
            "text/plain": [
              "<Figure size 640x480 with 1 Axes>"
            ],
            "image/png": "[encoded data removed]"
          },
          "metadata": {}
        }
      ]
    },
    {
      "cell_type": "code",
      "source": [
        "X, y = prepare_data('advertising (2).csv')\n",
        "(w1, w2, w3, b, losses) = implement_linear_regression(X_data=X, y_data=y)\n",
        "print(w1, w2, w3)"
      ],
      "metadata": {
        "colab": {
          "base_uri": "https://localhost:8080/"
        },
        "id": "R98oirITbbp5",
        "outputId": "ed62f03d-5bf8-4598-cd00-bfa9c4dad19a"
      },
      "execution_count": null,
      "outputs": [
        {
          "output_type": "stream",
          "name": "stdout",
          "text": [
            "0.07405984066396477 0.15917360263437663 0.017561197559948935\n"
          ]
        }
      ]
    },
    {
      "cell_type": "code",
      "source": [
        "# given new data\n",
        "tv = 19.2\n",
        "radio = 35.9\n",
        "newspaper = 51.3\n",
        "X , y = prepare_data('advertising (2).csv')\n",
        "(w1, w2, w3, b, losses) = implement_linear_regression(X, y, epoch_max=50, lr=1e-5)\n",
        "sales = predict(tv, radio, newspaper, w1, w2, w3, b)\n",
        "print(f'predicted sales is {sales}')"
      ],
      "metadata": {
        "colab": {
          "base_uri": "https://localhost:8080/"
        },
        "id": "Dg_2mFzHbbro",
        "outputId": "18d970d4-0640-48b2-edfd-bb840f274158"
      },
      "execution_count": null,
      "outputs": [
        {
          "output_type": "stream",
          "name": "stdout",
          "text": [
            "predicted sales is 8.176413319549823\n"
          ]
        }
      ]
    },
    {
      "cell_type": "code",
      "source": [],
      "metadata": {
        "id": "d6zvu3I8bbtk"
      },
      "execution_count": null,
      "outputs": []
    },
    {
      "cell_type": "code",
      "source": [
        "def implement_linear_regression_nsamples(X_data, y_data, epoch_max=1000, lr=1e-5):\n",
        "    losses= []\n",
        "    w1, w2, w3, b = initialize_params()\n",
        "    N = len(y_data)\n",
        "    for epoch in range(epoch_max):\n",
        "        loss_total = 0.0\n",
        "        dw1_total = 0.0\n",
        "        dw2_total = 0.0\n",
        "        dw3_total = 0.0\n",
        "        db_total = 0.0\n",
        "        for i in range(N):\n",
        "            # get a sample\n",
        "            x1 = X_data[0][i]\n",
        "            x2 = X_data[1][i]\n",
        "            x3 = X_data[2][i]\n",
        "\n",
        "            y = y_data[i]\n",
        "\n",
        "            # compute output\n",
        "            y_hat = predict(x1, x2, x3, w1, w2, w3, b)\n",
        "\n",
        "            # compute loss\n",
        "            loss = compute_loss(y_hat, y)\n",
        "\n",
        "            # accumualate loss\n",
        "            loss_total += loss\n",
        "\n",
        "            # compute gradient\n",
        "            dl_dw1 = compute_gradient_wi(x1, y_hat, y)\n",
        "            dl_dw2 = compute_gradient_wi(x2, y_hat, y)\n",
        "            dl_dw3 = compute_gradient_wi(x3, y_hat, y)\n",
        "            dl_db = compute_gradient_b(y_hat, y)\n",
        "\n",
        "            # accumulate gradient\n",
        "            dw1_total += dl_dw1\n",
        "            dw2_total += dl_dw2\n",
        "            dw3_total += dl_dw3\n",
        "            db_total += dl_db\n",
        "\n",
        "        # update parameters\n",
        "        w1 = update_weight_wi(w1, dw1_total/N, lr)\n",
        "        w2 = update_weight_wi(w2, dw2_total/N, lr)\n",
        "        w3 = update_weight_wi(w3, dw3_total/N, lr)\n",
        "        b = update_weight_b(b, db_total/N, lr)\n",
        "\n",
        "        # logging\n",
        "        losses.append(loss_total/N)\n",
        "    return (w1, w2, w3, b, losses)"
      ],
      "metadata": {
        "id": "8D-mbl2AbbvX"
      },
      "execution_count": null,
      "outputs": []
    },
    {
      "cell_type": "code",
      "source": [
        "(w1, w2, w3, b, losses) = implement_linear_regression_nsamples(X_data=X, y_data=y)\n",
        "plt.plot(losses)\n",
        "plt.xlabel('Iteration')\n",
        "plt.ylabel('Loss')\n",
        "plt.show()"
      ],
      "metadata": {
        "colab": {
          "base_uri": "https://localhost:8080/",
          "height": 449
        },
        "id": "fuZ51qevbbxc",
        "outputId": "d33bbbc8-89dd-47a8-9841-2ebbc6f2378c"
      },
      "execution_count": null,
      "outputs": [
        {
          "output_type": "display_data",
          "data": {
            "text/plain": [
              "<Figure size 640x480 with 1 Axes>"
            ],
            "image/png": "[encoded data removed]"
          },
          "metadata": {}
        }
      ]
    },
    {
      "cell_type": "code",
      "source": [
        "X, y = prepare_data('advertising (2).csv')\n",
        "# using MSE loss\n",
        "(w1, w2, w3, b, losses) = implement_linear_regression_nsamples(X, y, epoch_max=1000, lr=1e-5)\n",
        "\n",
        "print(w1, w2, w3)"
      ],
      "metadata": {
        "colab": {
          "base_uri": "https://localhost:8080/"
        },
        "id": "ORuOn4JybbzF",
        "outputId": "acf646bc-cb47-4108-f50a-bed22bc6e5f1"
      },
      "execution_count": null,
      "outputs": [
        {
          "output_type": "stream",
          "name": "stdout",
          "text": [
            "0.06710990754044266 0.15756173831487585 0.029619799386084403\n"
          ]
        }
      ]
    },
    {
      "cell_type": "code",
      "source": [],
      "metadata": {
        "id": "MfeNosnvbb1A"
      },
      "execution_count": null,
      "outputs": []
    },
    {
      "cell_type": "code",
      "source": [
        "def prepare_data(file_name_dataset):\n",
        "    data = np.genfromtxt(file_name_dataset, delimiter =',', skip_header =1).tolist()\n",
        "    N = len(data)\n",
        "\n",
        "    tv_data = get_column(data, 0)\n",
        "    radio_data = get_column(data, 1)\n",
        "    newspaper_data = get_column(data, 2)\n",
        "    sales_data = get_column(data, 3)\n",
        "\n",
        "    X = [[1, x1, x2, x3] for x1, x2, x3 in zip(tv_data, radio_data, newspaper_data)]\n",
        "    y = sales_data\n",
        "\n",
        "    return X, y"
      ],
      "metadata": {
        "id": "6C70exyiTlqr"
      },
      "execution_count": null,
      "outputs": []
    },
    {
      "cell_type": "code",
      "source": [
        "def initialize_params():\n",
        "    bias = 0\n",
        "    w1 = random.gauss(mu=0.0, sigma=0.01)\n",
        "    w2 = random.gauss(mu=0.0, sigma=0.01)\n",
        "    w3 = random.gauss(mu=0.0, sigma=0.01)\n",
        "\n",
        "    return [0 , -0.01268850433497871 , 0.004752496982185252 , 0.0073796171538643845]\n",
        "    # return [bias , w1 , w2 , w3]"
      ],
      "metadata": {
        "id": "F30hCotekkT8"
      },
      "execution_count": null,
      "outputs": []
    },
    {
      "cell_type": "code",
      "source": [
        "def predict(X_features, weights):\n",
        "    result = [x1*x2 for x1, x2 in zip(X_features, weights)]\n",
        "    return sum(result)\n",
        "\n",
        "def compute_loss(y_hat, y):\n",
        "    return (y_hat - y) ** 2\n",
        "\n",
        "def compute_gradient_w(X_features, y, y_hat):\n",
        "    dl_dweights = [2 * (y_hat - y) * X_features[i] for i in range(len(X_features))]\n",
        "    return dl_dweights\n",
        "\n",
        "def update_weight(weights , dl_dweights , lr):\n",
        "    weights = [w - lr * dl_dw for w, dl_dw in zip(weights, dl_dweights)]\n",
        "    return weights"
      ],
      "metadata": {
        "id": "fv5zBUOjkkWL"
      },
      "execution_count": null,
      "outputs": []
    },
    {
      "cell_type": "code",
      "source": [
        "def implement_linear_regression(X_feature, y_ouput, epoch_max=50, lr=1e-5):\n",
        "    losses = []\n",
        "    weights = initialize_params()\n",
        "    N = len(y_ouput)\n",
        "    for epoch in range(epoch_max):\n",
        "        for i in range(N):\n",
        "            # get a sample\n",
        "            feature_i = X_feature[i]\n",
        "            y = y_ouput[i]\n",
        "\n",
        "            # compute output\n",
        "            y_hat = predict(feature_i, weights)\n",
        "\n",
        "            # compute loss\n",
        "            loss = compute_loss(y_hat, y)\n",
        "\n",
        "            # compute gradient\n",
        "            dl_dweights = compute_gradient_w(feature_i, y, y_hat)\n",
        "\n",
        "            # update weight\n",
        "            weights = update_weight(weights, dl_dweights, lr)\n",
        "\n",
        "            # logging\n",
        "            losses.append(loss)\n",
        "    return weights, losses"
      ],
      "metadata": {
        "id": "h_pk1PsgkkdA"
      },
      "execution_count": null,
      "outputs": []
    },
    {
      "cell_type": "code",
      "source": [
        "X, y = prepare_data('advertising (2).csv')\n",
        "(weights, losses) = implement_linear_regression(X, y, epoch_max=50, lr=1e-5)\n",
        "plt.plot(losses[:100])\n",
        "plt.xlabel('Iteration')\n",
        "plt.ylabel('Loss')\n",
        "plt.show()"
      ],
      "metadata": {
        "colab": {
          "base_uri": "https://localhost:8080/",
          "height": 449
        },
        "id": "6x9Xd-CYkke3",
        "outputId": "f771361e-43f9-4f9e-8c3c-74b5ff841211"
      },
      "execution_count": null,
      "outputs": [
        {
          "output_type": "display_data",
          "data": {
            "text/plain": [
              "<Figure size 640x480 with 1 Axes>"
            ],
            "image/png": "[encoded data removed]"
          },
          "metadata": {}
        }
      ]
    },
    {
      "cell_type": "code",
      "source": [
        "X, y = prepare_data('advertising (2).csv')\n",
        "W, L = implement_linear_regression(X, y, epoch_max =50, lr=1e-5)\n",
        "# Print loss value at iteration 9999\n",
        "print(L[9999])"
      ],
      "metadata": {
        "colab": {
          "base_uri": "https://localhost:8080/"
        },
        "id": "E8tZysxkkkgs",
        "outputId": "6793d094-b78b-4832-d6d5-292235ed8a51"
      },
      "execution_count": null,
      "outputs": [
        {
          "output_type": "stream",
          "name": "stdout",
          "text": [
            "31.339223408109948\n"
          ]
        }
      ]
    }
  ]
}